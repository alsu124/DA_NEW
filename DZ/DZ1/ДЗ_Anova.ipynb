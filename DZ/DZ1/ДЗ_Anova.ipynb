{
 "cells": [
  {
   "cell_type": "markdown",
   "metadata": {
    "colab_type": "text",
    "id": "ZQ3iGhjLYo6n"
   },
   "source": [
    "**Пример 1**"
   ]
  },
  {
   "cell_type": "markdown",
   "metadata": {
    "colab_type": "text",
    "id": "B_Ag07g6Yo6p"
   },
   "source": [
    "Среди людей, проживающих в одном городе, выделены три группы по качественному признаку — профессии: бухгалтеры, юристы, \n",
    "\n",
    "программисты. \n",
    "\n",
    "Рассмотрим количественный признак — заработную плату (в тысячах рублей).\n",
    "\n",
    "Нужно установить, различаются ли средние зарплаты этих трех групп при уровне значимости $\\alpha$, равном 0.05.\n",
    "\n",
    "Количество человек в каждой группе: бухгалтеры — 5, юристы — 8, программисты — 7."
   ]
  },
  {
   "cell_type": "code",
   "execution_count": 1,
   "metadata": {
    "colab": {},
    "colab_type": "code",
    "id": "Og2fZ_bgYo6r"
   },
   "outputs": [],
   "source": [
    "import numpy as np"
   ]
  },
  {
   "cell_type": "code",
   "execution_count": 0,
   "metadata": {
    "colab": {},
    "colab_type": "code",
    "id": "5fzwL1OBYo61",
    "outputId": "0163901e-4b2a-4eff-f01c-ce2881021aab"
   },
   "outputs": [
    {
     "name": "stdout",
     "output_type": "stream",
     "text": [
      "20\n"
     ]
    }
   ],
   "source": [
    "n1 = 5\n",
    "n2 = 8\n",
    "n3 = 7\n",
    "n = n1 + n2 + n3\n",
    "print(n)"
   ]
  },
  {
   "cell_type": "markdown",
   "metadata": {
    "colab_type": "text",
    "id": "FJjbiTsqYo7E"
   },
   "source": [
    "Всего три группы:"
   ]
  },
  {
   "cell_type": "code",
   "execution_count": 0,
   "metadata": {
    "colab": {},
    "colab_type": "code",
    "id": "sz67ojVvYo7F"
   },
   "outputs": [],
   "source": [
    "k = 3"
   ]
  },
  {
   "cell_type": "markdown",
   "metadata": {
    "colab_type": "text",
    "id": "O294_P_HYo7N"
   },
   "source": [
    "Зарплаты бухгалтеров:"
   ]
  },
  {
   "cell_type": "code",
   "execution_count": 0,
   "metadata": {
    "colab": {},
    "colab_type": "code",
    "id": "XGE3QYnBYo7O"
   },
   "outputs": [],
   "source": [
    "y1 = np.array([70, 50, 65, 60, 75], dtype=np.float64)"
   ]
  },
  {
   "cell_type": "markdown",
   "metadata": {
    "colab_type": "text",
    "id": "NXP5moMcYo7V"
   },
   "source": [
    "Зарплаты юристов:"
   ]
  },
  {
   "cell_type": "code",
   "execution_count": 0,
   "metadata": {
    "colab": {},
    "colab_type": "code",
    "id": "0vdLkJVXYo7X"
   },
   "outputs": [],
   "source": [
    "y2 = np.array([80, 75, 90, 70, 75, 65, 85, 100], dtype=np.float64)"
   ]
  },
  {
   "cell_type": "markdown",
   "metadata": {
    "colab_type": "text",
    "id": "MGaphYCCYo7j"
   },
   "source": [
    "Зарплаты программистов:"
   ]
  },
  {
   "cell_type": "code",
   "execution_count": 0,
   "metadata": {
    "colab": {},
    "colab_type": "code",
    "id": "N0ll1RXdYo7k"
   },
   "outputs": [],
   "source": [
    "y3 = np.array([130, 100, 140, 150, 160, 170, 200], dtype=np.float64)"
   ]
  },
  {
   "cell_type": "markdown",
   "metadata": {
    "colab_type": "text",
    "collapsed": true,
    "id": "ckgMBMwlYo7r"
   },
   "source": [
    "Проведем однофакторный дисперсионный анализ. Сначала найдем средние зарплаты для каждой профессии:"
   ]
  },
  {
   "cell_type": "code",
   "execution_count": 0,
   "metadata": {
    "colab": {},
    "colab_type": "code",
    "id": "ZN6FRDI8Yo7s",
    "outputId": "3ee5e9e1-aa08-4b8c-f1c5-13aa8a029709"
   },
   "outputs": [
    {
     "name": "stdout",
     "output_type": "stream",
     "text": [
      "64.0\n"
     ]
    }
   ],
   "source": [
    "y1_mean = np.mean(y1)\n",
    "print(y1_mean)"
   ]
  },
  {
   "cell_type": "code",
   "execution_count": 0,
   "metadata": {
    "colab": {},
    "colab_type": "code",
    "id": "8NIWa2kYYo73",
    "outputId": "f1ed84f7-9516-4f22-b9f3-b71ed3d39b45"
   },
   "outputs": [
    {
     "name": "stdout",
     "output_type": "stream",
     "text": [
      "80.0\n"
     ]
    }
   ],
   "source": [
    "y2_mean = np.mean(y2)\n",
    "print(y2_mean)"
   ]
  },
  {
   "cell_type": "code",
   "execution_count": 0,
   "metadata": {
    "colab": {},
    "colab_type": "code",
    "id": "w3iuWoo8Yo7_",
    "outputId": "56ab1ef8-b833-42b3-fc4b-54bfa1317810"
   },
   "outputs": [
    {
     "name": "stdout",
     "output_type": "stream",
     "text": [
      "150.0\n"
     ]
    }
   ],
   "source": [
    "y3_mean = np.mean(y3)\n",
    "print(y3_mean)"
   ]
  },
  {
   "cell_type": "markdown",
   "metadata": {
    "colab_type": "text",
    "id": "Vptu9qE8Yo8H"
   },
   "source": [
    "Видно, что средние зарплаты разнятся. Установим, что это отличие статистически значимо. Для этого сначала соберем \n",
    "\n",
    "все значения заработных плат в один массив:"
   ]
  },
  {
   "cell_type": "code",
   "execution_count": 0,
   "metadata": {
    "colab": {},
    "colab_type": "code",
    "id": "XUIg7A9IYo8K",
    "outputId": "edac37c2-3711-488f-ec81-48bc6d27164a"
   },
   "outputs": [
    {
     "data": {
      "text/plain": [
       "array([  70.,   50.,   65.,   60.,   75.,   80.,   75.,   90.,   70.,\n",
       "         75.,   65.,   85.,  100.,  130.,  100.,  140.,  150.,  160.,\n",
       "        170.,  200.])"
      ]
     },
     "execution_count": 10,
     "metadata": {
      "tags": []
     },
     "output_type": "execute_result"
    }
   ],
   "source": [
    "y_all = np.concatenate([y1, y2, y3])\n",
    "y_all"
   ]
  },
  {
   "cell_type": "markdown",
   "metadata": {
    "colab_type": "text",
    "id": "FDrC2EgCYo8R"
   },
   "source": [
    "Найдем среднее значение заработной платы по всем значениям:"
   ]
  },
  {
   "cell_type": "code",
   "execution_count": 0,
   "metadata": {
    "colab": {},
    "colab_type": "code",
    "id": "LrmBsYWlYo8U",
    "outputId": "c44d8651-8d33-48a1-a897-8402119c9457"
   },
   "outputs": [
    {
     "name": "stdout",
     "output_type": "stream",
     "text": [
      "100.5\n"
     ]
    }
   ],
   "source": [
    "y_mean = np.mean(y_all)\n",
    "print(y_mean)"
   ]
  },
  {
   "cell_type": "markdown",
   "metadata": {
    "colab_type": "text",
    "id": "WIgxrxamYo8e"
   },
   "source": [
    "Найдем $S^2$ — сумму квадратов отклонений наблюдений от общего среднего:"
   ]
  },
  {
   "cell_type": "code",
   "execution_count": 0,
   "metadata": {
    "colab": {},
    "colab_type": "code",
    "id": "g49G26gmYo8h",
    "outputId": "e1595bb3-d4c3-4a0b-80f7-01cac23f2de4"
   },
   "outputs": [
    {
     "data": {
      "text/plain": [
       "34445.0"
      ]
     },
     "execution_count": 12,
     "metadata": {
      "tags": []
     },
     "output_type": "execute_result"
    }
   ],
   "source": [
    "s2 = np.sum((y_all - y_mean)**2)\n",
    "s2"
   ]
  },
  {
   "cell_type": "markdown",
   "metadata": {
    "colab_type": "text",
    "id": "4pbrI3QEYo8t"
   },
   "source": [
    "Найдем $S^2_F$ - сумму квадратов отклонений средних групповых значений от общего среднего:"
   ]
  },
  {
   "cell_type": "code",
   "execution_count": 0,
   "metadata": {
    "colab": {},
    "colab_type": "code",
    "id": "K0nyMwvGYo8w",
    "outputId": "31a96c6d-8f84-47d3-f91f-73b2851f3ceb"
   },
   "outputs": [
    {
     "data": {
      "text/plain": [
       "27175.0"
      ]
     },
     "execution_count": 13,
     "metadata": {
      "tags": []
     },
     "output_type": "execute_result"
    }
   ],
   "source": [
    "s2_f = ((y1_mean - y_mean)**2) * n1 + ((y2_mean - y_mean)**2) * n2 + ((y3_mean - y_mean)**2) * n3\n",
    "s2_f"
   ]
  },
  {
   "cell_type": "markdown",
   "metadata": {
    "colab_type": "text",
    "id": "6Y3bn04xYo87"
   },
   "source": [
    "Найдем $S^2_{ост}$ — остаточную сумму квадратов отклонений:"
   ]
  },
  {
   "cell_type": "code",
   "execution_count": 0,
   "metadata": {
    "colab": {},
    "colab_type": "code",
    "id": "Z2MbWgt-Yo8-",
    "outputId": "ead38f02-9d17-4cc7-ab94-31be2c2f5c12"
   },
   "outputs": [
    {
     "data": {
      "text/plain": [
       "7270.0"
      ]
     },
     "execution_count": 14,
     "metadata": {
      "tags": []
     },
     "output_type": "execute_result"
    }
   ],
   "source": [
    "s2_residual = np.sum((y1 - y1_mean)**2) + np.sum((y2 - y2_mean)**2) + np.sum((y3 - y3_mean)**2)\n",
    "s2_residual"
   ]
  },
  {
   "cell_type": "markdown",
   "metadata": {
    "colab_type": "text",
    "id": "r_o1uLOYYo9F"
   },
   "source": [
    "Удостоверимся, что соблюдается равенство $S^2 = S_F^2 + S_{ост}^2$:"
   ]
  },
  {
   "cell_type": "code",
   "execution_count": 0,
   "metadata": {
    "colab": {},
    "colab_type": "code",
    "id": "s4om9JoYYo9H",
    "outputId": "8a16fd68-68d2-4165-945e-410503eb5c1f"
   },
   "outputs": [
    {
     "name": "stdout",
     "output_type": "stream",
     "text": [
      "34445.0\n",
      "34445.0\n"
     ]
    }
   ],
   "source": [
    "print(s2)\n",
    "print(s2_f + s2_residual)"
   ]
  },
  {
   "cell_type": "markdown",
   "metadata": {
    "colab_type": "text",
    "id": "0CSn3JPbYo9N"
   },
   "source": [
    "Найдем общую дисперсию:"
   ]
  },
  {
   "cell_type": "code",
   "execution_count": 0,
   "metadata": {
    "colab": {},
    "colab_type": "code",
    "id": "poku5it4Yo9O",
    "outputId": "5aabd9fa-fac6-438f-b1aa-6aa7f5647818"
   },
   "outputs": [
    {
     "data": {
      "text/plain": [
       "1812.8947368421052"
      ]
     },
     "execution_count": 16,
     "metadata": {
      "tags": []
     },
     "output_type": "execute_result"
    }
   ],
   "source": [
    "sigma2_general = s2 / (n - 1)\n",
    "sigma2_general"
   ]
  },
  {
   "cell_type": "markdown",
   "metadata": {
    "colab_type": "text",
    "id": "GpuU4kg0Yo9W"
   },
   "source": [
    "Найдем факторную дисперсию:"
   ]
  },
  {
   "cell_type": "code",
   "execution_count": 0,
   "metadata": {
    "colab": {},
    "colab_type": "code",
    "id": "LDEml9L-Yo9Z",
    "outputId": "4740f545-c1bc-4260-8852-73891d7e19c3"
   },
   "outputs": [
    {
     "data": {
      "text/plain": [
       "13587.5"
      ]
     },
     "execution_count": 17,
     "metadata": {
      "tags": []
     },
     "output_type": "execute_result"
    }
   ],
   "source": [
    "sigma2_f = s2_f / (k - 1)\n",
    "sigma2_f"
   ]
  },
  {
   "cell_type": "markdown",
   "metadata": {
    "colab_type": "text",
    "id": "G5vpR7jyYo9j"
   },
   "source": [
    "Найдем остаточную дисперсию:"
   ]
  },
  {
   "cell_type": "code",
   "execution_count": 0,
   "metadata": {
    "colab": {},
    "colab_type": "code",
    "id": "KeWVYYHfYo9r",
    "outputId": "936ec316-e751-4659-8d8d-3ea71b4b432c"
   },
   "outputs": [
    {
     "data": {
      "text/plain": [
       "427.64705882352939"
      ]
     },
     "execution_count": 18,
     "metadata": {
      "tags": []
     },
     "output_type": "execute_result"
    }
   ],
   "source": [
    "sigma2_residual = s2_residual / (n - k)\n",
    "sigma2_residual"
   ]
  },
  {
   "cell_type": "markdown",
   "metadata": {
    "colab_type": "text",
    "id": "uQirLWssYo9x"
   },
   "source": [
    "Вычислим $F_H$:"
   ]
  },
  {
   "cell_type": "code",
   "execution_count": 0,
   "metadata": {
    "colab": {},
    "colab_type": "code",
    "id": "W9QELM6VYo91",
    "outputId": "f7cd32e9-7e6a-420b-d1f4-d92b17245e03"
   },
   "outputs": [
    {
     "data": {
      "text/plain": [
       "31.772696011004129"
      ]
     },
     "execution_count": 19,
     "metadata": {
      "tags": []
     },
     "output_type": "execute_result"
    }
   ],
   "source": [
    "F_h = sigma2_f / sigma2_residual\n",
    "F_h"
   ]
  },
  {
   "cell_type": "markdown",
   "metadata": {
    "colab_type": "text",
    "id": "7pw0jHLlYo9-"
   },
   "source": [
    "Найдем значение $F_{крит}$ в таблице критических точек распределения Фишера-Снедекора для заданного уровня значимости $\\alpha = 0.05$ и двух степеней свободы: \n",
    "\n",
    "$df_{межд} = k - 1 = 3 - 1 = 2$ и $df_{внутр} = n - k = 20 - 3 = 17$."
   ]
  },
  {
   "cell_type": "markdown",
   "metadata": {
    "colab_type": "text",
    "id": "WPLuwwbyYo9_"
   },
   "source": [
    "Для данных значений $F_{крит} = 3.59$. Так как $F_H > F_{крит}$, отвергнута гипотеза Н0, различие средних зарплат в трех группах статистически значимо."
   ]
  },
  {
   "cell_type": "markdown",
   "metadata": {},
   "source": [
    "### Задание 1. Реализовать метод по примеру выше для расчета дисперсий к следующей задаче.\n",
    "### Решить задачу, используя методы Anova SciPy.\n",
    "\n",
    "Провести дисперсионный анализ для определения того, есть ли различия среднего роста среди взрослых футболистов, хоккеистов и штангистов. Даны значения роста в трех группах случайно выбранных спортсменов: Футболисты: 173, 175, 180, 178, 177, 185, 183, 182. Хоккеисты: 177, 179, 180, 188, 177, 172, 171, 184, 180. Штангисты: 172, 173, 169, 177, 166, 180, 178, 177, 172, 166, 170."
   ]
  },
  {
   "cell_type": "markdown",
   "metadata": {},
   "source": [
    "### Задание2. Проанализируйте набор данных «Авто-мили», чтобы выяснить, насколько переменные похожи друг на друга.\n",
    "\n",
    "Загрузите набор данных auto-mpg из ~ / наборов данных / auto-mpg /\n",
    "Проверить нулевую гипотезу, отклонять или не отклонять нулевую гипотезу.\n",
    "\n",
    "1. Гипотезы:\n",
    "\n",
    "Independent variable: origin\n",
    "\n",
    "Dependent variable: mpg\n",
    "\n",
    "$ H_o: $ Существенных различий в милях среди транспортных средств различного происхождения не существует.\n",
    "\n",
    "$ H_1: $ Существенная разница существует в милях среди транспортных средств различного происхождения.\n",
    " \n",
    " 2. \n",
    " \n",
    "Independent variable: origin\n",
    "\n",
    "Independent variable: horsepower\n",
    "\n",
    "Dependent variable: mpg\n",
    "\n",
    "$ H_o: $ Существенных различий в милях среди транспортных средств различного происхождения не существует.\n",
    "\n",
    "$ H_1: $ Существенная разница существует в милях среди транспортных средств различного происхождения.\n",
    "\n",
    "\n",
    " "
   ]
  },
  {
   "cell_type": "markdown",
   "metadata": {},
   "source": [
    "Задание 3. Определить , какие выборки и  какой критерий использовать. \n",
    "\n",
    "1. Пример\n",
    "\n",
    "Изучить, оказывает ли влияение новая недавно разработанная система электронной регистрации на прием к врачу на среднее время, проведенное пациентом в ожидании приема. Пусть есть две выборки  со средним временем ожидания приема за последний месяц в двух разных клиниках; в одной из них есть система электронной регистрации, а в другой – нет.\n",
    "2. Пример\n",
    "\n",
    "Для тестирования диеты набираются 15 человек. Их вес замеряется, а затем они подвергаются диете в течении некоторого времени, и их вес снова замеряется. С помощью статистических методов необходимо проверить, работает ли диета.\n",
    "\n",
    "3. Пример\n",
    "\n",
    "Влияние витамина C на рост зубов морских свинок.\n",
    "В эксперименте изучалось влияние витамина C на рост одонтобластов морских свинок. Рассматривалось три дозы витамина (0.5, 1 и 2 мг) и два способа его приёма (апельсиновый сок и аскорбиновая кислота). В каждой из 6 групп по уровням двух факторов были произведены измерения для 10 морских свинок.\n",
    "\n",
    "4. Пример\n",
    "\n",
    "Рост певцов хора\n",
    "В 1979 году было опрошено 235 членов нью-йоркской ассоциации хорового пения, для каждого из них известен рост и регистр голоса. Меняется ли средний рост вместе с регистром?"
   ]
  },
  {
   "cell_type": "code",
   "execution_count": null,
   "metadata": {},
   "outputs": [],
   "source": []
  },
  {
   "cell_type": "code",
   "execution_count": 0,
   "metadata": {
    "colab": {},
    "colab_type": "code",
    "id": "ZjNthQrPYo_d"
   },
   "outputs": [],
   "source": []
  }
 ],
 "metadata": {
  "colab": {
   "collapsed_sections": [],
   "name": "Матстат - Урок 8.ipynb",
   "provenance": [],
   "version": "0.3.2"
  },
  "kernelspec": {
   "display_name": "Python 3",
   "language": "python",
   "name": "python3"
  },
  "language_info": {
   "codemirror_mode": {
    "name": "ipython",
    "version": 3
   },
   "file_extension": ".py",
   "mimetype": "text/x-python",
   "name": "python",
   "nbconvert_exporter": "python",
   "pygments_lexer": "ipython3",
   "version": "3.7.3"
  }
 },
 "nbformat": 4,
 "nbformat_minor": 1
}
